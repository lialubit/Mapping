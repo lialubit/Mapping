{
 "cells": [
  {
   "cell_type": "code",
   "execution_count": 1,
   "metadata": {
    "collapsed": true
   },
   "outputs": [],
   "source": [
    "%matplotlib inline"
   ]
  },
  {
   "cell_type": "code",
   "execution_count": 2,
   "metadata": {
    "collapsed": true
   },
   "outputs": [],
   "source": [
    "import math as math\n",
    "import numpy as np\n",
    "import pandas as pd\n",
    "import matplotlib.pyplot as plt\n",
    "from scipy.optimize import curve_fit\n",
    "import scipy.stats as stats"
   ]
  },
  {
   "cell_type": "code",
   "execution_count": 3,
   "metadata": {},
   "outputs": [
    {
     "data": {
      "image/png": "[encoded data removed]",
      "text/plain": [
       "<matplotlib.figure.Figure at 0x180f8c0d68>"
      ]
     },
     "metadata": {},
     "output_type": "display_data"
    }
   ],
   "source": [
    "#Plot flux vs time with error bars\n",
    "worksheet2data = pd.read_csv('worksheet2.txt', sep=\" \", header=None)\n",
    "worksheet2data.columns = [\"time\", \"flux\", \"error\"]\n",
    "time, flux, err = np.loadtxt(\"worksheet2.txt\").T\n",
    "x = worksheet2data['time']\n",
    "y = worksheet2data['flux']\n",
    "yerr = worksheet2data['error']\n",
    "fig, ax = plt.subplots()\n",
    "ax.errorbar(x, y, yerr, solid_capstyle='projecting', color='purple')\n",
    "ax.grid(alpha=0.5, linestyle=':')\n",
    "plt.show()"
   ]
  },
  {
   "cell_type": "code",
   "execution_count": 4,
   "metadata": {
    "collapsed": true
   },
   "outputs": [],
   "source": [
    "def model(period, phase, time):\n",
    "    return(1 + 0.1 * np.sin(2 * np.pi * period * time + phase))"
   ]
  },
  {
   "cell_type": "markdown",
   "metadata": {},
   "source": [
    "%%time\n",
    "\n",
    "#I got this message at one point: IOPub data rate exceeded. The notebook server will temporarily stop sending output to the client in order to avoid crashing it.\n",
    "#How can I speed this up?\n",
    "\n",
    "periods = np.random.random_sample(100) * 8\n",
    "phases = np.random.random_sample(100) * 2*math.pi\n",
    "\n",
    "t = worksheet2data['time'].values\n",
    "f = worksheet2data['flux'].values\n",
    "\n",
    "chisq = np.empty((len(periods), len(phases)))\n",
    "for p in range(100):\n",
    "    for h in range(100):\n",
    "        m = model(periods[p], phases[h], t)\n",
    "        diff_sq = np.square(m - f)\n",
    "        chisq[p, h] = diff_sq.sum()\n",
    "print(chisq)"
   ]
  },
  {
   "cell_type": "code",
   "execution_count": 12,
   "metadata": {
    "scrolled": true
   },
   "outputs": [
    {
     "name": "stdout",
     "output_type": "stream",
     "text": [
      "CPU times: user 7.13 s, sys: 1.55 s, total: 8.68 s\n",
      "Wall time: 8.72 s\n"
     ]
    }
   ],
   "source": [
    "%%time\n",
    "periods = np.linspace(2, 6, 100)\n",
    "phases = np.linspace(0, 2 * np.pi, 100).reshape(-1,1)\n",
    "chisq = np.empty((len(periods), len(phases)))\n",
    "\n",
    "#model(periods, phases, time)\n",
    "#chisq[i, j] = \n",
    "#for i, period in enumerate(periods):\n",
    "    #for j, phase in enumerate(phases):\n",
    "        #chisq[i, j] = np.sum((model(period, phase, time) - flux) ** 2)\n",
    "\n",
    "for i, period in enumerate(periods):\n",
    "    chisq[i] = np.sum((model(period, phases, time) - flux) ** 2)"
   ]
  },
  {
   "cell_type": "code",
   "execution_count": 22,
   "metadata": {},
   "outputs": [
    {
     "name": "stdout",
     "output_type": "stream",
     "text": [
      "[  0.   1.   2.   3.   4.   5.   6.   7.   8.   9.  10.]\n",
      "(11,)\n",
      "[[  0.]\n",
      " [  1.]\n",
      " [  2.]\n",
      " [  3.]\n",
      " [  4.]\n",
      " [  5.]\n",
      " [  6.]\n",
      " [  7.]\n",
      " [  8.]\n",
      " [  9.]\n",
      " [ 10.]]\n",
      "(11, 1)\n"
     ]
    }
   ],
   "source": [
    "#broadcasting\n",
    "\n",
    "#x = np.linspace(0, 10, 11)\n",
    "#print(x)\n",
    "#print(x.shape)\n",
    "#print(x.reshape(11,1))\n",
    "#print(x.reshape(11,1).shape)\n",
    "\n",
    "#y = np.array([1, 2, 3])\n",
    "#print(y)\n",
    "#print(y.shape)\n",
    "#print(x.reshape(-1,1) * y)"
   ]
  },
  {
   "cell_type": "code",
   "execution_count": null,
   "metadata": {},
   "outputs": [],
   "source": [
    "extent = (phases.min(), phases.max(), periods.min(), periods.max())\n",
    "best_i, best_j = np.unravel_index(np.argmin(chisq, axis=None), chisq.shape)\n",
    "best_period = periods[best_i]\n",
    "best_phase = phases[best_j]\n",
    "plt.axvline(best_phase, color=\"k\")\n",
    "plt.axhline(best_period, color=\"k\")\n",
    "plt.title(\"$P$ = {:.3f} days ; $\\phi$ = {:.3f} radians\".format(best_period, best_phase))\n",
    "plt.imshow(chisq, origin=\"lower\", extent=extent)\n",
    "plt.colorbar(label=r\"$\\chi^2$\")\n",
    "plt.xlabel(\"Phase [radians]\")\n",
    "plt.ylabel(\"Period [days]\");"
   ]
  },
  {
   "cell_type": "code",
   "execution_count": null,
   "metadata": {},
   "outputs": [],
   "source": [
    "likelihood = np.exp(-0.5 * (chisq - chisq.min()))\n",
    "plt.imshow(likelihood, origin=\"lower\", extent=extent, aspect='auto')\n",
    "plt.colorbar(label=r\"Likelihood\")\n",
    "plt.xlabel(\"Phase [radians]\")\n",
    "plt.ylabel(\"Period [days]\");\n",
    "plt.axvline(best_phase, color=\"k\")\n",
    "plt.axhline(best_period, color=\"k\")\n",
    "plt.xlim(1.0, 1.7)\n",
    "plt.ylim(4.05, 4.18);"
   ]
  },
  {
   "cell_type": "code",
   "execution_count": null,
   "metadata": {},
   "outputs": [],
   "source": [
    "def Gaussian(x, mu, sigma):\n",
    "    return np.exp(-(x - mu) ** 2 / (2. * sigma ** 2))\n",
    "\n",
    "like_phases = np.sum(likelihood, axis=0)\n",
    "like_phases /= np.max(like_phases)\n",
    "\n",
    "coeff, _ = curve_fit(Gaussian, phases, like_phases, p0=[best_phase, 0.1])\n",
    "mu_phase, sigma_phase = coeff\n",
    "\n",
    "plt.plot(phases, like_phases, label=\"Marginal likelihood\")\n",
    "plt.plot(phases, Gaussian(phases, mu_phase, sigma_phase), label=\"Gaussian fit\")\n",
    "plt.xlim(0.7, 2.0);\n",
    "plt.legend()\n",
    "plt.xlabel(\"Period [days]\")\n",
    "plt.ylabel(r\"Relative Likelihood\");\n",
    "plt.title(\"$\\phi = {:.3f} \\pm {:.4f}$ radians\".format(mu_phase, sigma_phase));"
   ]
  },
  {
   "cell_type": "code",
   "execution_count": null,
   "metadata": {},
   "outputs": [],
   "source": [
    "like_periods = np.sum(likelihood, axis=1)\n",
    "like_periods /= np.max(like_periods)\n",
    "\n",
    "coeff, _ = curve_fit(Gaussian, periods, like_periods, p0=[best_period, 0.1])\n",
    "mu_period, sigma_period = coeff\n",
    "\n",
    "plt.plot(periods, like_periods, label=\"Marginal likelihood\")\n",
    "plt.plot(periods, Gaussian(periods, mu_period, sigma_period), label=\"Gaussian fit\")\n",
    "plt.xlim(4, 4.25);\n",
    "plt.legend()\n",
    "plt.xlabel(\"Period [days]\")\n",
    "plt.ylabel(r\"Relative Likelihood\");\n",
    "plt.title(\"$P = {:.3f} \\pm {:.4f}$ days\".format(mu_period, sigma_period));"
   ]
  },
  {
   "cell_type": "code",
   "execution_count": null,
   "metadata": {},
   "outputs": [],
   "source": [
    "plt.plot(time, flux, 'k.', ms=2, alpha=0.3, label=\"data\", zorder=-1)\n",
    "plt.plot(time, model(mu_period, mu_phase, time), label=\"model\")\n",
    "plt.xlabel(\"Time [days]\")\n",
    "plt.legend(numpoints=5)\n",
    "plt.ylabel(\"Flux\");"
   ]
  }
 ],
 "metadata": {
  "kernelspec": {
   "display_name": "Python 3",
   "language": "python",
   "name": "python3"
  },
  "language_info": {
   "codemirror_mode": {
    "name": "ipython",
    "version": 3
   },
   "file_extension": ".py",
   "mimetype": "text/x-python",
   "name": "python",
   "nbconvert_exporter": "python",
   "pygments_lexer": "ipython3",
   "version": "3.6.3"
  }
 },
 "nbformat": 4,
 "nbformat_minor": 2
}
